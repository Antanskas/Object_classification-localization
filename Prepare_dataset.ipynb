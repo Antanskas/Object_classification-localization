{
 "cells": [
  {
   "cell_type": "markdown",
   "metadata": {
    "colab_type": "text",
    "id": "1sOUAjNxCaCC"
   },
   "source": [
    "# Imports"
   ]
  },
  {
   "cell_type": "code",
   "execution_count": 1,
   "metadata": {
    "colab": {},
    "colab_type": "code",
    "id": "u8GH7yUBH91u"
   },
   "outputs": [],
   "source": [
    "import datetime as dt\n",
    "import pandas as pd\n",
    "from tqdm import tqdm\n",
    "import cv2\n",
    "import numpy as np\n",
    "import os\n",
    "import sys\n",
    "import random\n",
    "import warnings\n",
    "from sklearn.model_selection import train_test_split\n",
    "import shutil"
   ]
  },
  {
   "cell_type": "markdown",
   "metadata": {
    "colab_type": "text",
    "id": "pyy3qbq6Cz6u"
   },
   "source": [
    "# Load"
   ]
  },
  {
   "cell_type": "code",
   "execution_count": 2,
   "metadata": {
    "colab": {
     "base_uri": "https://localhost:8080/",
     "height": 50
    },
    "colab_type": "code",
    "id": "Agk9XsdsH_9Q",
    "outputId": "8f9159bb-bece-4c79-d721-07c8fadc40a9"
   },
   "outputs": [],
   "source": [
    "working_path = 'data/'"
   ]
  },
  {
   "cell_type": "code",
   "execution_count": 3,
   "metadata": {
    "colab": {
     "base_uri": "https://localhost:8080/",
     "height": 252
    },
    "colab_type": "code",
    "id": "lcTC4Y1IKozo",
    "outputId": "fb962bd6-4cf2-4718-a152-2e8a9616cd9d"
   },
   "outputs": [
    {
     "name": "stdout",
     "output_type": "stream",
     "text": [
      "-----------------------------------------------------------------------\n",
      "Full table\n",
      "          filename  width  height   class  xmin  ymin  xmax  ymax    x_koef  \\\n",
      "0  n02088364_10108    375     500  beagle    75    56   281   498  1.464844   \n",
      "1  n02088364_10206    500     400  beagle    76    99   464   377  1.953125   \n",
      "2  n02088364_10296    500     375  beagle   240   140   499   368  1.953125   \n",
      "3  n02088364_10354    500     375  beagle    30    54   458   374  1.953125   \n",
      "4  n02088364_10362    335     199  beagle   165    22   331   188  1.308594   \n",
      "\n",
      "     y_koef  xmin_resized  ymin_resized  xmax_resized  ymax_resized  xmin_new  \\\n",
      "0  1.953125     51.200000     28.672000    191.829333    254.976000        51   \n",
      "1  1.562500     38.912000     63.360000    237.568000    241.280000        39   \n",
      "2  1.464844    122.880000     95.573333    255.488000    251.221333       123   \n",
      "3  1.464844     15.360000     36.864000    234.496000    255.317333        15   \n",
      "4  0.777344    126.089552     28.301508    252.943284    241.849246       126   \n",
      "\n",
      "   ymin_new  xmax_new  ymax_new  \n",
      "0        29       192       255  \n",
      "1        63       238       241  \n",
      "2        96       255       251  \n",
      "3        37       234       255  \n",
      "4        28       253       242  \n",
      "-----------------------------------------------------------------------\n",
      "Id table\n",
      "          filename   class\n",
      "0  n02088364_10108  beagle\n",
      "1  n02088364_10206  beagle\n",
      "2  n02088364_10296  beagle\n",
      "3  n02088364_10354  beagle\n",
      "4  n02088364_10362  beagle\n"
     ]
    }
   ],
   "source": [
    "# Read labels.csv into pd dataframe\n",
    "print(\"-----------------------------------------------------------------------\")\n",
    "print(\"Full table\")\n",
    "labels = pd.read_csv(working_path + '256_labels.csv')\n",
    "print(labels.head())\n",
    "\n",
    "print(\"-----------------------------------------------------------------------\")\n",
    "\n",
    "print('Id table')\n",
    "labels = labels[['filename', 'class']]\n",
    "print(labels.head())"
   ]
  },
  {
   "cell_type": "code",
   "execution_count": 4,
   "metadata": {
    "colab": {},
    "colab_type": "code",
    "id": "p0xLZzy0LK2V"
   },
   "outputs": [],
   "source": [
    "# Splitting data into train and valid sets, later will separate test set also\n",
    "train_df, valid_df = train_test_split(labels, test_size = 0.3)"
   ]
  },
  {
   "cell_type": "code",
   "execution_count": 5,
   "metadata": {
    "colab": {
     "base_uri": "https://localhost:8080/",
     "height": 67
    },
    "colab_type": "code",
    "id": "g8lcsEkPC3ah",
    "outputId": "2929da65-154d-47be-a965-7db20c436af3"
   },
   "outputs": [
    {
     "name": "stdout",
     "output_type": "stream",
     "text": [
      "Training set size:  893\n",
      "Validation set size:  384\n",
      "Total dataset size:  1277\n"
     ]
    }
   ],
   "source": [
    "print('Training set size: ', len(train_df))\n",
    "print('Validation set size: ', len(valid_df))\n",
    "print('Total dataset size: ', len(labels))"
   ]
  },
  {
   "cell_type": "code",
   "execution_count": 6,
   "metadata": {
    "colab": {
     "base_uri": "https://localhost:8080/",
     "height": 0
    },
    "colab_type": "code",
    "id": "f_u1YeErDExS",
    "outputId": "eb974b8f-295a-4b00-e8a5-9e9123483cb4"
   },
   "outputs": [],
   "source": [
    "# # Copy image files to training/validation/testing folders\n",
    "# # Copy only one file per breed to test folder - saving images for training    \n",
    "    \n",
    "def copyFileSet_1(strDirFrom, strDirTo, arrFileNames):\n",
    "    arrBreeds = np.asarray(arrFileNames['class'])\n",
    "    arrFileNames = np.asarray(arrFileNames['filename'])\n",
    "    \n",
    "    if not os.path.exists(strDirTo):\n",
    "        os.makedirs(strDirTo)\n",
    "\n",
    "    for i in tqdm(range(len(arrFileNames))):\n",
    "    \n",
    "        strFileNameFrom = strDirFrom + arrFileNames[i] + \".jpg\"\n",
    "#         print(strFileNameFrom)\n",
    "        strFileNameTo = strDirTo + arrBreeds[i] + \"/\" + arrFileNames[i] + \".jpg\"\n",
    "#         print(strFileNameTo)\n",
    "\n",
    "        if not os.path.exists(strDirTo + arrBreeds[i] + \"/\"):\n",
    "            os.makedirs(strDirTo + arrBreeds[i] + \"/\")\n",
    "            \n",
    "            if not os.path.exists(working_path + \"test/\"):\n",
    "                os.makedirs(working_path + \"test/\")\n",
    "\n",
    "            strFileNameTo = working_path + \"test/\" + arrBreeds[i] + \".jpg\"\n",
    "            shutil.copy(strFileNameFrom, strFileNameTo)\n",
    "\n",
    "        shutil.copy(strFileNameFrom, strFileNameTo)\n",
    "    "
   ]
  },
  {
   "cell_type": "code",
   "execution_count": 7,
   "metadata": {
    "colab": {
     "base_uri": "https://localhost:8080/",
     "height": 354
    },
    "colab_type": "code",
    "id": "telhN-ZkD03v",
    "outputId": "cd080859-7548-4faf-ad1f-85c73f563a51"
   },
   "outputs": [
    {
     "name": "stderr",
     "output_type": "stream",
     "text": [
      "100%|███████████████████████████████████████████████████████████████████████████████| 893/893 [00:01<00:00, 623.55it/s]\n",
      "100%|███████████████████████████████████████████████████████████████████████████████| 384/384 [00:00<00:00, 571.93it/s]\n"
     ]
    }
   ],
   "source": [
    "# Copying files\n",
    "copyFileSet_1(\"all_images/\", working_path + \"train/\", train_df)\n",
    "copyFileSet_1(\"all_images/\", working_path + \"valid/\", valid_df)"
   ]
  },
  {
   "cell_type": "code",
   "execution_count": 8,
   "metadata": {},
   "outputs": [
    {
     "data": {
      "text/plain": [
       "{0: 'German_shepherd',\n",
       " 1: 'Labrador_retriever',\n",
       " 2: 'Rottweiler',\n",
       " 3: 'Yorkshire_terrier',\n",
       " 4: 'beagle',\n",
       " 5: 'pug',\n",
       " 6: 'standard_poodle'}"
      ]
     },
     "execution_count": 8,
     "metadata": {},
     "output_type": "execute_result"
    }
   ],
   "source": [
    "breeds = np.unique(labels['class'])\n",
    "breed_dictionary = {} \n",
    "for i in range(len(breeds)):\n",
    "    breed_dictionary[i] = breeds[i]\n",
    "\n",
    "breed_dictionary"
   ]
  }
 ],
 "metadata": {
  "accelerator": "GPU",
  "colab": {
   "collapsed_sections": [],
   "name": "classify_9_breeds.ipynb",
   "provenance": [],
   "version": "0.3.2"
  },
  "kernelspec": {
   "display_name": "Python 3",
   "language": "python",
   "name": "python3"
  },
  "language_info": {
   "codemirror_mode": {
    "name": "ipython",
    "version": 3
   },
   "file_extension": ".py",
   "mimetype": "text/x-python",
   "name": "python",
   "nbconvert_exporter": "python",
   "pygments_lexer": "ipython3",
   "version": "3.7.3"
  },
  "toc": {
   "base_numbering": 1,
   "nav_menu": {},
   "number_sections": true,
   "sideBar": true,
   "skip_h1_title": false,
   "title_cell": "Table of Contents",
   "title_sidebar": "Contents",
   "toc_cell": false,
   "toc_position": {},
   "toc_section_display": true,
   "toc_window_display": false
  }
 },
 "nbformat": 4,
 "nbformat_minor": 1
}
